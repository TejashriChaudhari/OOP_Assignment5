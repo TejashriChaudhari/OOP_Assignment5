{
 "cells": [
  {
   "cell_type": "markdown",
   "id": "74b5780c",
   "metadata": {},
   "source": [
    "Create You own built-in class method Max Score: 100\n",
    "\n",
    "BACK TO ASSIGNMENT Write a Python class to implement pow(x, n)\n",
    "\n",
    "Explanation: Use should be able to find the nth power of the x.(i.e xxx*x...n times) You must implement it using Class\n",
    "    Sample Input: x: 10 \n",
    "                  n: 2\n",
    "    Sample Output: 100"
   ]
  },
  {
   "cell_type": "code",
   "execution_count": 1,
   "id": "6356278e",
   "metadata": {},
   "outputs": [
    {
     "name": "stdout",
     "output_type": "stream",
     "text": [
      "100\n"
     ]
    }
   ],
   "source": [
    "class Power:\n",
    "    def __init__(self,x,n):\n",
    "        self.x=x\n",
    "        self.n=n\n",
    "        \n",
    "    def get_power(self):\n",
    "        print(self.x**self.n)\n",
    "        \n",
    "power=Power(10,2)        \n",
    "power.get_power()"
   ]
  },
  {
   "cell_type": "code",
   "execution_count": null,
   "id": "eeec7d39",
   "metadata": {},
   "outputs": [],
   "source": []
  },
  {
   "cell_type": "code",
   "execution_count": null,
   "id": "16861e64",
   "metadata": {},
   "outputs": [],
   "source": []
  },
  {
   "cell_type": "code",
   "execution_count": null,
   "id": "d5986344",
   "metadata": {},
   "outputs": [],
   "source": []
  },
  {
   "cell_type": "code",
   "execution_count": null,
   "id": "1a564225",
   "metadata": {},
   "outputs": [],
   "source": []
  },
  {
   "cell_type": "code",
   "execution_count": null,
   "id": "6cab1726",
   "metadata": {},
   "outputs": [],
   "source": []
  },
  {
   "cell_type": "code",
   "execution_count": null,
   "id": "131a7fa9",
   "metadata": {},
   "outputs": [],
   "source": []
  }
 ],
 "metadata": {
  "kernelspec": {
   "display_name": "Python 3 (ipykernel)",
   "language": "python",
   "name": "python3"
  },
  "language_info": {
   "codemirror_mode": {
    "name": "ipython",
    "version": 3
   },
   "file_extension": ".py",
   "mimetype": "text/x-python",
   "name": "python",
   "nbconvert_exporter": "python",
   "pygments_lexer": "ipython3",
   "version": "3.10.1"
  }
 },
 "nbformat": 4,
 "nbformat_minor": 5
}
